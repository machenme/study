{
 "cells": [
  {
   "attachments": {},
   "cell_type": "markdown",
   "metadata": {},
   "source": [
    "### 1. Git简介\n",
    "`Git`工作流程(`modified`, `staged`, `committed`)\n",
    "- 编辑,修改文件后,文件变为`已修改(modified)`状态\n",
    "- 对`已修改`的文件进行`暂存`,将其包含在下一次提交的快照中,变为`已暂存(staged)`状态\n",
    "- 将数据提交到本地或者Git服务器,变为`已提交(committed)`状态\n",
    "- 与之对应的Git项目会拥有三个不同的区域: 工作目录,暂存区域,本地仓库\n",
    "- 一句话概括Git工作流程就是: `修改(modify) -> 暂存(stage) -> 提交(commit)`"
   ]
  },
  {
   "attachments": {},
   "cell_type": "markdown",
   "metadata": {},
   "source": [
    "### 2. Git安装\n",
    "- 具体安装参考[Git安装](https://git-scm.com/book/zh/v2/起步-安装-Git)\n",
    "- 安装完成后,在命令行输入`git --version`查看版本号\n",
    "- 在windows系统中,Git配置文件一般在用户文件夹下的`.gitconfig`文件中\n",
    "- Git安装完成后,需要设置用户名和邮箱,这些信息会被写入到每一次提交中\n",
    "- 设置用户名和邮箱的命令如下(注意`--global`代表全局配置,如果不加该参数,则只对当前仓库有效):\n",
    "```bash\n",
    "    git config --global user.name \"Your Name\"\n",
    "    git config --global user.email \"Email address\"\n",
    "```\n",
    "- 当设定完成以后,你可以在`.gitconfig`文件中查看到你的用户名和邮箱\n",
    "    - 也可以通过输入`git config user.name`和`git config user.email`来查看用户名和邮箱"
   ]
  },
  {
   "attachments": {},
   "cell_type": "markdown",
   "metadata": {},
   "source": [
    "### 3. Git基础\n",
    "#### 3.1 获取Git仓库\n",
    "通常有两种方式获取Git仓库:\n",
    "- 1. 将尚未进行版本控制的本地目录转换为Git仓库\n",
    "    - 跳转到对应目录后,输入`git init`命令,将该目录转换为Git仓库\n",
    "    - 如果目录非空,可以使用`git init`命令将该目录转换为Git仓库之后使用  \n",
    "    `git add *.py`文件将所有的`.py`文件添加到Git仓库中\n",
    "- 2. 克隆现有的Git仓库\n",
    "    - 使用`git clone https://example.com`命令将远程仓库克隆到本地\n",
    "    - 如果在上面命令后面添加一个空格和目录名,则会将远程仓库克隆后重命名为对应的名字"
   ]
  }
 ],
 "metadata": {
  "language_info": {
   "name": "python"
  },
  "orig_nbformat": 4
 },
 "nbformat": 4,
 "nbformat_minor": 2
}
